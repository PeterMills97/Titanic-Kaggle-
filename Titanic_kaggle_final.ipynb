{
 "cells": [
  {
   "cell_type": "markdown",
   "id": "facd3c71",
   "metadata": {},
   "source": [
    "# Load modules and data"
   ]
  },
  {
   "cell_type": "code",
   "execution_count": 362,
   "id": "34f06a7c",
   "metadata": {},
   "outputs": [],
   "source": [
    "import numpy as np\n",
    "import pandas as pd\n",
    "import matplotlib.pyplot as plt\n",
    "from xgboost import XGBClassifier\n",
    "train_data=pd.read_csv(\"train.csv\")\n",
    "test_data=pd.read_csv(\"test.csv\")\n",
    "from sklearn.preprocessing import OneHotEncoder\n",
    "from sklearn.model_selection import train_test_split"
   ]
  },
  {
   "cell_type": "code",
   "execution_count": 363,
   "id": "2993fd31",
   "metadata": {},
   "outputs": [
    {
     "name": "stdout",
     "output_type": "stream",
     "text": [
      "   PassengerId  Survived  Pclass  \\\n",
      "0            1         0       3   \n",
      "1            2         1       1   \n",
      "2            3         1       3   \n",
      "3            4         1       1   \n",
      "4            5         0       3   \n",
      "\n",
      "                                                Name     Sex   Age  SibSp  \\\n",
      "0                            Braund, Mr. Owen Harris    male  22.0      1   \n",
      "1  Cumings, Mrs. John Bradley (Florence Briggs Th...  female  38.0      1   \n",
      "2                             Heikkinen, Miss. Laina  female  26.0      0   \n",
      "3       Futrelle, Mrs. Jacques Heath (Lily May Peel)  female  35.0      1   \n",
      "4                           Allen, Mr. William Henry    male  35.0      0   \n",
      "\n",
      "   Parch            Ticket     Fare Cabin Embarked  \n",
      "0      0         A/5 21171   7.2500   NaN        S  \n",
      "1      0          PC 17599  71.2833   C85        C  \n",
      "2      0  STON/O2. 3101282   7.9250   NaN        S  \n",
      "3      0            113803  53.1000  C123        S  \n",
      "4      0            373450   8.0500   NaN        S  \n"
     ]
    }
   ],
   "source": [
    "print(train_data.head(5))"
   ]
  },
  {
   "cell_type": "markdown",
   "id": "55f72391",
   "metadata": {},
   "source": [
    "Straight away I decided to exclude the ticket data as it is in multiply formats and without engineering seems unlikely to be useful. The passenger id data will also be excluded as it has no relation to the other information."
   ]
  },
  {
   "cell_type": "code",
   "execution_count": 364,
   "id": "765ff04d",
   "metadata": {},
   "outputs": [
    {
     "name": "stdout",
     "output_type": "stream",
     "text": [
      "PassengerId      0\n",
      "Survived         0\n",
      "Pclass           0\n",
      "Name             0\n",
      "Sex              0\n",
      "Age            177\n",
      "SibSp            0\n",
      "Parch            0\n",
      "Ticket           0\n",
      "Fare             0\n",
      "Cabin          687\n",
      "Embarked         2\n",
      "dtype: int64\n"
     ]
    }
   ],
   "source": [
    "print(train_data.isnull().sum()) "
   ]
  },
  {
   "cell_type": "markdown",
   "id": "f619876c",
   "metadata": {},
   "source": [
    "Based partly on this I decided to exclude the cabin data for now as it will require significant engeneering to be useful. \n",
    "I decided to clean the age data by replacign the null values with the mean. "
   ]
  },
  {
   "cell_type": "code",
   "execution_count": 365,
   "id": "1c598ae0",
   "metadata": {},
   "outputs": [
    {
     "name": "stdout",
     "output_type": "stream",
     "text": [
      "PassengerId   -0.005007\n",
      "Survived       1.000000\n",
      "Pclass        -0.338481\n",
      "Age           -0.077221\n",
      "SibSp         -0.035322\n",
      "Parch          0.081629\n",
      "Fare           0.257307\n",
      "Name: Survived, dtype: float64\n"
     ]
    }
   ],
   "source": [
    "print(train_data.corr()[\"Survived\"])"
   ]
  },
  {
   "cell_type": "code",
   "execution_count": 366,
   "id": "83ce0bca",
   "metadata": {},
   "outputs": [
    {
     "data": {
      "image/png": "[encoded data removed]",
      "text/plain": [
       "<Figure size 432x288 with 1 Axes>"
      ]
     },
     "metadata": {
      "needs_background": "light"
     },
     "output_type": "display_data"
    },
    {
     "data": {
      "image/png": "[encoded data removed]",
      "text/plain": [
       "<Figure size 432x288 with 1 Axes>"
      ]
     },
     "metadata": {
      "needs_background": "light"
     },
     "output_type": "display_data"
    },
    {
     "data": {
      "image/png": "[encoded data removed]",
      "text/plain": [
       "<Figure size 432x288 with 1 Axes>"
      ]
     },
     "metadata": {
      "needs_background": "light"
     },
     "output_type": "display_data"
    }
   ],
   "source": [
    "'''train_data.hist(bins=50, figsize=(20,15))\n",
    "plt.show()'''\n",
    "\n",
    "first_class=train_data[train_data[\"Pclass\"]==1]\n",
    "first_class_sur=first_class[first_class['Survived']==1]\n",
    "first_class_die=first_class[first_class['Survived']==0]\n",
    "\n",
    "second_class=train_data[train_data[\"Pclass\"]==2]\n",
    "second_class_sur=second_class[second_class['Survived']==1]\n",
    "second_class_die=second_class[second_class['Survived']==0]\n",
    "\n",
    "third_class=train_data[train_data[\"Pclass\"]==3]\n",
    "third_class_sur=third_class[third_class['Survived']==1]\n",
    "third_class_die=third_class[third_class['Survived']==0]\n",
    "\n",
    "\n",
    "labels=['1S','1D','2S','2D','3S','3D']\n",
    "heights=[len(first_class_sur),len(first_class_die),len(second_class_sur),len(second_class_die),len(third_class_sur),len(third_class_die)]\n",
    "plt.bar(labels,heights)\n",
    "plt.title(\"Survival for each Class\")\n",
    "plt.ylabel('Number of People')\n",
    "plt.xlabel('Class + Survived/Died (S/D)')\n",
    "plt.show()\n",
    "\n",
    "\n",
    "labels=['1S','1D','2S','2D','3S','3D']\n",
    "heights=[first_class_sur['Age'].mean(),first_class_die['Age'].mean(),second_class_sur['Age'].mean(),second_class_die['Age'].mean(),third_class_sur['Age'].mean(),third_class_die['Age'].mean()]\n",
    "plt.bar(labels,heights)\n",
    "plt.title(\"Age and Survival for each Class\")\n",
    "plt.ylabel('Mean age')\n",
    "plt.xlabel('Class + Survived/Died (S/D)')\n",
    "plt.show()\n",
    "\n",
    "male=train_data[train_data[\"Sex\"]==\"male\"]\n",
    "male_sur=male[male[\"Survived\"]==1]\n",
    "male_die=male[male[\"Survived\"]==0]\n",
    "\n",
    "female=train_data[train_data[\"Sex\"]==\"female\"]\n",
    "female_sur=female[female[\"Survived\"]==1]\n",
    "female_die=female[female[\"Survived\"]==0]\n",
    "\n",
    "\n",
    "labels=[\"M-S\",\"M-D\",\"F-S\", \"F-D\"]\n",
    "heights=[len(male_sur),len(male_die),len(female_sur),len(female_die),]\n",
    "plt.bar(labels,heights)\n",
    "plt.title(\"Survival based on Sex\")\n",
    "plt.ylabel('Number of people')\n",
    "plt.xlabel('Sex (M/F) + Survived/Died (S/D)')\n",
    "plt.show()"
   ]
  },
  {
   "cell_type": "markdown",
   "id": "8bac72cc",
   "metadata": {},
   "source": [
    "Class and Sex have strong relation to survival. It's interestign that once that data is broken into class, age also correlates with survival. "
   ]
  },
  {
   "cell_type": "markdown",
   "id": "177b37ff",
   "metadata": {},
   "source": [
    "# Function to check my predictions accuracy on train data"
   ]
  },
  {
   "cell_type": "code",
   "execution_count": 367,
   "id": "eb0a9b97",
   "metadata": {},
   "outputs": [],
   "source": [
    "def acc_test(predict_y,real_y):\n",
    "    errors=0\n",
    "    for i in range(np.shape(predict_y)[0]):\n",
    "        if predict_y[i]!=real_y[i]:\n",
    "            errors+=1\n",
    "    acc= (np.shape(predict_y)[0]-errors)/(np.shape(predict_y)[0])\n",
    "    print(acc)"
   ]
  },
  {
   "cell_type": "markdown",
   "id": "b84879c6",
   "metadata": {},
   "source": [
    "# Clean Data with age mean"
   ]
  },
  {
   "cell_type": "markdown",
   "id": "e805a881",
   "metadata": {},
   "source": [
    "In order to create the data set to model in XGBoost, I need to one-hot encode the categorical data. To do this I split the numeric and categorical data, creating a dataframe for each which I later joined."
   ]
  },
  {
   "cell_type": "code",
   "execution_count": 368,
   "id": "aa518d32",
   "metadata": {},
   "outputs": [
    {
     "name": "stdout",
     "output_type": "stream",
     "text": [
      "         Age  SibSp  Parch     Fare\n",
      "0  22.000000      1      0   7.2500\n",
      "1  38.000000      1      0  71.2833\n",
      "2  26.000000      0      0   7.9250\n",
      "3  35.000000      1      0  53.1000\n",
      "4  35.000000      0      0   8.0500\n",
      "5  29.699118      0      0   8.4583\n",
      "6  54.000000      0      0  51.8625\n",
      "7   2.000000      3      1  21.0750\n",
      "8  27.000000      0      2  11.1333\n",
      "9  14.000000      1      0  30.0708\n"
     ]
    }
   ],
   "source": [
    "numeric_train=train_data[[\"Age\",\"SibSp\",\"Parch\",\"Fare\"]].copy()\n",
    "numeric_train[\"Age\"].fillna(numeric_train[\"Age\"].mean(),inplace=True)\n",
    "print(numeric_train.head(10))\n",
    "\n",
    "encoder = OneHotEncoder(handle_unknown='ignore')\n",
    "encoder.fit(train_data[['Pclass','Sex','Embarked']])\n",
    "encoder.get_feature_names_out()\n",
    "cat_train=pd.DataFrame(encoder.transform(train_data[['Pclass','Sex','Embarked']]).toarray())\n",
    "cat_train.columns = encoder.get_feature_names_out()\n",
    "#print(cat_train.head(20))\n",
    "\n",
    "y_train=train_data[\"Survived\"].to_numpy()\n",
    "x_train=(numeric_train.join(cat_train)).to_numpy()"
   ]
  },
  {
   "cell_type": "markdown",
   "id": "dcec9ceb",
   "metadata": {},
   "source": [
    "# The Model"
   ]
  },
  {
   "cell_type": "markdown",
   "id": "e27a9984",
   "metadata": {},
   "source": [
    "I decided to use the XGBoost model in this project, without tuning it overfit the data so by tuning the parameters I was able to improve my score."
   ]
  },
  {
   "cell_type": "code",
   "execution_count": 369,
   "id": "5a704940",
   "metadata": {},
   "outputs": [
    {
     "name": "stdout",
     "output_type": "stream",
     "text": [
      "0.8574635241301908\n"
     ]
    }
   ],
   "source": [
    "model=XGBClassifier(eta=0.15, max_depth=2, reg_lambda=2) #initially I used default params, these are the result of some tuning\n",
    "model.fit(x_train,y_train)\n",
    "y_predict_train=model.predict(x_train)\n",
    "acc_test(y_predict_train,y_train)"
   ]
  },
  {
   "cell_type": "code",
   "execution_count": 370,
   "id": "344262ad",
   "metadata": {},
   "outputs": [],
   "source": [
    "cat_test=pd.DataFrame(encoder.transform(test_data[['Pclass','Sex','Embarked']]).toarray())\n",
    "cat_test.columns = encoder.get_feature_names_out()\n",
    "\n",
    "numeric_test=test_data[[\"Age\",\"SibSp\",\"Parch\",\"Fare\"]].copy()\n",
    "numeric_test[\"Age\"].fillna(numeric_test[\"Age\"].mean(),inplace=True)\n",
    "\n",
    "x_test=(numeric_test.join(cat_test)).to_numpy()\n"
   ]
  },
  {
   "cell_type": "code",
   "execution_count": 371,
   "id": "0f5c2829",
   "metadata": {},
   "outputs": [],
   "source": [
    "y_predict2=pd.DataFrame(model.predict(x_test))\n",
    "test_id=pd.DataFrame(test_data[\"PassengerId\"].copy())\n",
    "\n",
    "\n",
    "y_submission=test_id.join(y_predict2)\n",
    "y_submission.columns = [\"PassengerId\", \"Survived\"] \n",
    "\n",
    "\n",
    "y_submission.to_csv(\"forth_submission.csv\", index=False)\n"
   ]
  },
  {
   "cell_type": "markdown",
   "id": "2cb28d0a",
   "metadata": {},
   "source": [
    "Here is a list of scores:<br><br>\n",
    "0.74162 untuned (train=0.96520) <br>\n",
    "0.75837 with max_depth=3 (train=0.91021) <br>\n",
    "0.76794 with max_depth=2 (train=0.88776)  <br>\n",
    "0.77511 with max_depth=2 eta=0.2 (train=0.86756) <br>\n",
    "0.77990 with max_depth=2 eta=0.15 (train=0.85970) <br>\n",
    "0.77990 with max_depth=2 eta=0.1  (train=0.85185) <br> \n",
    "0.77511 with max_depth=2 eta=0.15 reg_lambda=10 (train=0.84511) <br>\n",
    "0.77990 with max_depth=2 eta=0.15 reg_lambda=2  (train=0.85746) <br><br>\n",
    "I included train accuracy to show signs of overfit and you can see that initally the accuracy on the train set was very high compared to the test set, indicating overfit. The score starting to plateau then drop indicated that overfitting has been addressed."
   ]
  },
  {
   "cell_type": "markdown",
   "id": "f385ccfc",
   "metadata": {},
   "source": [
    "# Engineer additional features "
   ]
  },
  {
   "cell_type": "markdown",
   "id": "f4d77f95",
   "metadata": {},
   "source": [
    "An ideas for additional features that I saw on the competion discussion board was, number of family members. <br> Number of famuily members is pretty straight forward, combining thee SibSp and Parch data will give this. It will be interesting to see if size of a family is more diagnostic than the SibSp and Parch components. <br>\n"
   ]
  },
  {
   "cell_type": "code",
   "execution_count": 372,
   "id": "8fb79541",
   "metadata": {},
   "outputs": [],
   "source": [
    "#engineer the title feature\n",
    "names=train_data[\"Name\"].to_numpy()\n",
    "for i in range(np.shape(names)[0]):\n",
    "    names[i]=names[i].split()[1].strip(\".\")\n",
    "\n",
    "name_list=[]\n",
    "for i in range(np.shape(names)[0]):\n",
    "    if names[i] not in name_list:\n",
    "        name_list.append(names[i])\n",
    "\n",
    "name_count=[0]*31\n",
    "for i in range(np.shape(names)[0]):\n",
    "    for j in range(len(name_list)):\n",
    "        if names[i]==name_list[j]:\n",
    "            name_count[j]+=1\n",
    "\n",
    "name_features=[]\n",
    "for j in range(len(name_list)):\n",
    "    if name_count[j]>10:\n",
    "        name_features.append(name_list[j])\n",
    "          \n",
    "\n",
    "for i in range(np.shape(names)[0]):\n",
    "    if names[i] not in name_features:\n",
    "        names[i]=\"other\"\n",
    "    \n",
    "#print(names)"
   ]
  },
  {
   "cell_type": "code",
   "execution_count": 373,
   "id": "8cabf865",
   "metadata": {},
   "outputs": [],
   "source": [
    "#add feature to test data\n",
    "test_names=test_data[\"Name\"].to_numpy()\n",
    "\n",
    "for i in range(np.shape(test_names)[0]):\n",
    "    test_names[i]=test_names[i].split()[1].strip(\".\")\n",
    "\n",
    "for i in range(np.shape(test_names)[0]):\n",
    "    if test_names[i] not in name_features:\n",
    "        test_names[i]=\"other\""
   ]
  },
  {
   "cell_type": "code",
   "execution_count": 374,
   "id": "a08b9985",
   "metadata": {},
   "outputs": [
    {
     "name": "stdout",
     "output_type": "stream",
     "text": [
      "   PassengerId  Survived  Pclass  Name     Sex   Age  SibSp  Parch  \\\n",
      "0            1         0       3    Mr    male  22.0      1      0   \n",
      "1            2         1       1   Mrs  female  38.0      1      0   \n",
      "2            3         1       3  Miss  female  26.0      0      0   \n",
      "3            4         1       1   Mrs  female  35.0      1      0   \n",
      "4            5         0       3    Mr    male  35.0      0      0   \n",
      "\n",
      "             Ticket     Fare Cabin Embarked Titles  \n",
      "0         A/5 21171   7.2500   NaN        S     Mr  \n",
      "1          PC 17599  71.2833   C85        C    Mrs  \n",
      "2  STON/O2. 3101282   7.9250   NaN        S   Miss  \n",
      "3            113803  53.1000  C123        S    Mrs  \n",
      "4            373450   8.0500   NaN        S     Mr  \n",
      "   PassengerId  Pclass Name     Sex   Age  SibSp  Parch   Ticket     Fare  \\\n",
      "0          892       3   Mr    male  34.5      0      0   330911   7.8292   \n",
      "1          893       3  Mrs  female  47.0      1      0   363272   7.0000   \n",
      "2          894       2   Mr    male  62.0      0      0   240276   9.6875   \n",
      "3          895       3   Mr    male  27.0      0      0   315154   8.6625   \n",
      "4          896       3  Mrs  female  22.0      1      1  3101298  12.2875   \n",
      "\n",
      "  Cabin Embarked Titles  \n",
      "0   NaN        Q     Mr  \n",
      "1   NaN        S    Mrs  \n",
      "2   NaN        Q     Mr  \n",
      "3   NaN        S     Mr  \n",
      "4   NaN        S    Mrs  \n"
     ]
    }
   ],
   "source": [
    "train_data[\"Titles\"]=pd.DataFrame(names)\n",
    "print(train_data.head(5))\n",
    "\n",
    "test_data[\"Titles\"]=pd.DataFrame(test_names) #same for test\n",
    "print(test_data.head(5))"
   ]
  },
  {
   "cell_type": "code",
   "execution_count": 375,
   "id": "d01b95e1",
   "metadata": {},
   "outputs": [],
   "source": [
    "encoder = OneHotEncoder(handle_unknown='ignore')\n",
    "encoder.fit(train_data[['Pclass','Sex','Embarked','Titles']])\n",
    "encoder.get_feature_names_out()\n",
    "cat_train=pd.DataFrame(encoder.transform(train_data[['Pclass','Sex','Embarked','Titles']]).toarray())\n",
    "cat_train.columns = encoder.get_feature_names_out()\n",
    "\n",
    "cat_test=pd.DataFrame(encoder.transform(test_data[['Pclass','Sex','Embarked','Titles']]).toarray())\n",
    "cat_test.columns = encoder.get_feature_names_out()"
   ]
  },
  {
   "cell_type": "code",
   "execution_count": 376,
   "id": "bce9980e",
   "metadata": {},
   "outputs": [],
   "source": [
    "eng_train=numeric_train.join(cat_train)\n",
    "eng_train[\"Family\"]=train_data[\"SibSp\"]+train_data[\"Parch\"]\n",
    "#print(eng_train)\n",
    "x_train_eng=eng_train.to_numpy()\n"
   ]
  },
  {
   "cell_type": "code",
   "execution_count": 377,
   "id": "cd9ee2e1",
   "metadata": {},
   "outputs": [
    {
     "name": "stdout",
     "output_type": "stream",
     "text": [
      "0.8641975308641975\n"
     ]
    }
   ],
   "source": [
    "eng_model=XGBClassifier(eta=0.15, max_depth=2, reg_lambda=2) #initially I used default params, these are the result of some tuning\n",
    "eng_model.fit(x_train_eng,y_train)\n",
    "y_predict_train=eng_model.predict(x_train_eng)\n",
    "acc_test(y_predict_train,y_train)"
   ]
  },
  {
   "cell_type": "code",
   "execution_count": 378,
   "id": "8f2ab2df",
   "metadata": {},
   "outputs": [],
   "source": [
    "eng_test=numeric_test.join(cat_test)\n",
    "eng_test[\"Family\"]=test_data[\"SibSp\"]+test_data[\"Parch\"]\n",
    "x_test_eng=eng_test.to_numpy()\n"
   ]
  },
  {
   "cell_type": "code",
   "execution_count": 379,
   "id": "08c24cc4",
   "metadata": {},
   "outputs": [],
   "source": [
    "y_predict_eng=pd.DataFrame(eng_model.predict(x_test_eng))\n",
    "test_id=pd.DataFrame(test_data[\"PassengerId\"].copy())\n",
    "\n",
    "\n",
    "y_sub_eng=test_id.join(y_predict_eng)\n",
    "y_sub_eng.columns = [\"PassengerId\", \"Survived\"] \n",
    "\n",
    "\n",
    "y_sub_eng.to_csv(\"Engineered_submission.csv\", index=False)"
   ]
  },
  {
   "cell_type": "markdown",
   "id": "8b02d606",
   "metadata": {},
   "source": [
    "# Scores with the family feature engineered "
   ]
  },
  {
   "cell_type": "markdown",
   "id": "9002c57e",
   "metadata": {},
   "source": [
    "New scores <br>\n",
    "0.76794 (eta=0.15, max_depth=2) (acc=0.85858) <br>\n",
    "0.77272 (eta=0.15, max_depth=2,lambda=2) (acc=0.86195) <br>\n",
    "Train data accuracy has stayed the same and score has dropped to overfit has returned <br>\n",
    "0.77033 (eta=0.1, max_depth=2,reg_lambda=5) (acc=0.84624)<br>\n",
    "0.77272 (eta=0.15, max_depth=2,lambda=5) (acc=0.85185) <br>\n",
    "It looks like this is as well as this methoc can fit the data\n"
   ]
  },
  {
   "cell_type": "markdown",
   "id": "eab18f89",
   "metadata": {},
   "source": [
    "# Scores with Title feature engineered "
   ]
  },
  {
   "cell_type": "markdown",
   "id": "9c5afac3",
   "metadata": {},
   "source": [
    "0.77033 (eta=0.15, max_depth=2,reg_lambda=2) (acc=0.86644) <br>\n",
    "0.77272 (eta=0.15, max_depth=2,reg_lambda=5) (acc=0.85634) <br>\n",
    "0.77033 (eta=0.15, max_depth=2,reg_lambda=10) (acc=0.85521) <br>\n",
    "We aren't seeing any better fit here "
   ]
  },
  {
   "cell_type": "markdown",
   "id": "f5c23e78",
   "metadata": {},
   "source": [
    "# Scores using both engineered features "
   ]
  },
  {
   "cell_type": "markdown",
   "id": "894c0ea5",
   "metadata": {},
   "source": [
    "0.77990 (eta=0.15, max_depth=2,reg_lambda=2) (acc=0.86195) <br>\n",
    "0.77990 (eta=0.15, max_depth=2,reg_lambda=5) (acc=0.86083)<br>\n",
    "Interstingly the combination of these feature is a slight improvement over them individually but this is peaking around the unengineered score.\n",
    "\n"
   ]
  },
  {
   "cell_type": "code",
   "execution_count": null,
   "id": "7beff0cd",
   "metadata": {},
   "outputs": [],
   "source": []
  }
 ],
 "metadata": {
  "kernelspec": {
   "display_name": "Python 3 (ipykernel)",
   "language": "python",
   "name": "python3"
  },
  "language_info": {
   "codemirror_mode": {
    "name": "ipython",
    "version": 3
   },
   "file_extension": ".py",
   "mimetype": "text/x-python",
   "name": "python",
   "nbconvert_exporter": "python",
   "pygments_lexer": "ipython3",
   "version": "3.9.12"
  }
 },
 "nbformat": 4,
 "nbformat_minor": 5
}
